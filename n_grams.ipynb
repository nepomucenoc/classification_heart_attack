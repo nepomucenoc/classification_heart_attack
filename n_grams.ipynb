{
  "nbformat": 4,
  "nbformat_minor": 0,
  "metadata": {
    "colab": {
      "provenance": [],
      "authorship_tag": "ABX9TyPVKnHrXtlk23RTxjKEkMpC",
      "include_colab_link": true
    },
    "kernelspec": {
      "name": "python3",
      "display_name": "Python 3"
    },
    "language_info": {
      "name": "python"
    }
  },
  "cells": [
    {
      "cell_type": "markdown",
      "metadata": {
        "id": "view-in-github",
        "colab_type": "text"
      },
      "source": [
        "<a href=\"https://colab.research.google.com/github/nepomucenoc/modelagem/blob/main/n_grams.ipynb\" target=\"_parent\"><img src=\"https://colab.research.google.com/assets/colab-badge.svg\" alt=\"Open In Colab\"/></a>"
      ]
    },
    {
      "cell_type": "markdown",
      "source": [
        "# Measure of Similarity Between Texts - Containment\n",
        "\n",
        "In this notebook, we will implement a *containment* function. This function will compare two texts and analyze the similarity in relation to *n-grams* intersection. First, we will understand the vocabulary concepts, and n-grams to posteriorly implement the function."
      ],
      "metadata": {
        "id": "klL3eJACsnUN"
      }
    },
    {
      "cell_type": "markdown",
      "source": [
        "## Count N-grams\n",
        "\n",
        "Sequency of the n elements in a phrase:\n",
        "\n",
        "*   letters\n",
        "*   words\n",
        "*   symbols\n",
        "*   grammar classification\n",
        "\n",
        "First we have to count the occurrences of n-grams of our texts. We will use CountVectorizer to convert the text dataset into a count array.\n",
        "\n",
        "In the code below, we can vary the value of n and use the CountVectorizer to count occurrences of n grams. We can see that in the cell below we are creating a vocabulary through the use of the CountVectorizer and, later, we will analyze the count matrix."
      ],
      "metadata": {
        "id": "MKx9ls3CtapC"
      }
    },
    {
      "cell_type": "code",
      "execution_count": 1,
      "metadata": {
        "id": "IzrV43XWsdu0"
      },
      "outputs": [],
      "source": [
        "import numpy as np\n",
        "import sklearn"
      ]
    },
    {
      "cell_type": "markdown",
      "source": [
        "## Unigram\n",
        "\n",
        "running the example prints the vocabulary. We can see that there are 8 words in the vocabulary and therefore encoded arrays also have a length of 8."
      ],
      "metadata": {
        "id": "01WfYLBgujY-"
      }
    },
    {
      "cell_type": "code",
      "source": [
        "from sklearn.feature_extraction.text import CountVectorizer\n",
        "\n",
        "text_compare = \"Suppose this is the text I want to compare\"\n",
        "text_font = \"Assume this is the main text\"\n",
        "\n",
        "#Number of n-grams\n",
        "n = 1\n",
        "\n",
        "#Instantiate the n-gram counter\n",
        "counts = CountVectorizer(analyzer='word', ngram_range=(n,n))\n",
        "\n",
        "#Create a dictionary of n-grams\n",
        "vocab2int = counts.fit([text_compare,text_font]).vocabulary_\n",
        "\n",
        "#Print dictionary of words: index\n",
        "print(vocab2int)"
      ],
      "metadata": {
        "colab": {
          "base_uri": "https://localhost:8080/"
        },
        "id": "o-bpMcL0u2DV",
        "outputId": "63ef2416-3c2e-4045-abd6-9aff7801b7e2"
      },
      "execution_count": 2,
      "outputs": [
        {
          "output_type": "stream",
          "name": "stdout",
          "text": [
            "{'suppose': 4, 'this': 7, 'is': 2, 'the': 6, 'text': 5, 'want': 9, 'to': 8, 'compare': 1, 'assume': 0, 'main': 3}\n"
          ]
        }
      ]
    },
    {
      "cell_type": "markdown",
      "source": [
        "## Bigram\n",
        "\n",
        "The same goes for the case of bigrams. we have 8 bigrams in the vocabulary and therefore the encoded vectors in length 8."
      ],
      "metadata": {
        "id": "Jbvcsunkv6MI"
      }
    },
    {
      "cell_type": "code",
      "source": [
        "#Number of n-grams\n",
        "n = 2\n",
        "\n",
        "#Instantiate the n-gram counter\n",
        "counts = CountVectorizer(analyzer='word', ngram_range=(n,n))\n",
        "\n",
        "#Create a dictionary of n-grams\n",
        "vocab2int = counts.fit([text_compare,text_font]).vocabulary_\n",
        "\n",
        "#Print dictionary of words: index\n",
        "print(vocab2int)"
      ],
      "metadata": {
        "colab": {
          "base_uri": "https://localhost:8080/"
        },
        "id": "EZecijJyv4AA",
        "outputId": "275d31c1-f482-4575-eddc-417b6757411e"
      },
      "execution_count": 3,
      "outputs": [
        {
          "output_type": "stream",
          "name": "stdout",
          "text": [
            "{'suppose this': 3, 'this is': 7, 'is the': 1, 'the text': 6, 'text want': 4, 'want to': 9, 'to compare': 8, 'assume this': 0, 'the main': 5, 'main text': 2}\n"
          ]
        }
      ]
    },
    {
      "cell_type": "markdown",
      "source": [
        "## Trigram"
      ],
      "metadata": {
        "id": "ZzXuI1dVwO0v"
      }
    },
    {
      "cell_type": "code",
      "source": [
        "#Number of n-grams\n",
        "n = 3\n",
        "\n",
        "#Instantiate the n-gram counter\n",
        "counts = CountVectorizer(analyzer='word', ngram_range=(n,n))\n",
        "\n",
        "#Create a dictionary of n-grams\n",
        "vocab2int = counts.fit([text_compare,text_font]).vocabulary_\n",
        "\n",
        "#Print dictionary of words: index\n",
        "print(vocab2int)"
      ],
      "metadata": {
        "colab": {
          "base_uri": "https://localhost:8080/"
        },
        "id": "8gNBHTozwQ-y",
        "outputId": "2ba66c64-55b0-4450-87a8-90e0e1cecf1c"
      },
      "execution_count": 4,
      "outputs": [
        {
          "output_type": "stream",
          "name": "stdout",
          "text": [
            "{'suppose this is': 3, 'this is the': 7, 'is the text': 2, 'the text want': 6, 'text want to': 4, 'want to compare': 8, 'assume this is': 0, 'is the main': 1, 'the main text': 5}\n"
          ]
        }
      ]
    },
    {
      "cell_type": "markdown",
      "source": [
        "## Vocabulary Words\n",
        "\n",
        "Note that the article \"o\" of the phrases text_compare and text_font does not appear in the vocabulary. Also note that all sentences are in lower case. this is due to the fact that when we pass the parameter analyser = 'word', we are considering in our analysis words with two or more characters and consequently ignoring words with only one character. Excluding these characters (articles) is a standard and desired behavior in many text analyzes due to their irrelevance in most textual analyses.\n",
        "\n",
        "In case you need to bypass CountVectorizer's default pattern and add single-character words to your analysis, you can add the token_pattern argument by passing a select REGEX. This regular expression (REGEX) defines word as having one or more characters."
      ],
      "metadata": {
        "id": "T_P441FCwUbp"
      }
    },
    {
      "cell_type": "markdown",
      "source": [
        "## Array of n-grams\n",
        "\n",
        "Let's use CountVectorizer to create an array of n-gram counts. Also, let's create two sentences that we want to analyze, and transform each text into a numerical vector representing the occurrence of each word.\n",
        "\n",
        "Note that each line represents a text and each column or index represents the vocabulary terms. We will see this clearly in the mapping below.\n",
        "\n",
        "*  text_compare\n",
        "*  text_font"
      ],
      "metadata": {
        "id": "Hm4YJhmVxvek"
      }
    },
    {
      "cell_type": "code",
      "source": [
        "#Number of n-grams\n",
        "n = 1\n",
        "\n",
        "#Instantiate the n-gram counter\n",
        "counts = CountVectorizer(analyzer='word', ngram_range=(n,n))\n",
        "\n",
        "#Count of n-grams Matrix between two texts\n",
        "n_grams = counts.fit_transform([text_compare,text_font])\n",
        "\n",
        "#Create a dictionary of n-grams\n",
        "vocab2int = counts.fit([text_compare,text_font]).vocabulary_\n",
        "\n",
        "n_grams_array = n_grams.toarray()\n",
        "\n",
        "print('N-grams Vector:\\n\\n', n_grams_array)\n",
        "print()\n",
        "print('N-grams Dictionary (unigram):\\n\\n', vocab2int)"
      ],
      "metadata": {
        "colab": {
          "base_uri": "https://localhost:8080/"
        },
        "id": "IG8xeStjxt9E",
        "outputId": "e623c896-3c5a-4f8c-eeef-bb122e6b9e0b"
      },
      "execution_count": 6,
      "outputs": [
        {
          "output_type": "stream",
          "name": "stdout",
          "text": [
            "N-grams Vector:\n",
            "\n",
            " [[0 1 1 0 1 1 1 1 1 1]\n",
            " [1 0 1 1 0 1 1 1 0 0]]\n",
            "\n",
            "N-grams Dictionary (unigram):\n",
            "\n",
            " {'suppose': 4, 'this': 7, 'is': 2, 'the': 6, 'text': 5, 'want': 9, 'to': 8, 'compare': 1, 'assume': 0, 'main': 3}\n"
          ]
        }
      ]
    },
    {
      "cell_type": "markdown",
      "source": [
        "Above we have the vectors that encode each text. On the top line we have the n-grams of the text_compare and on the bottom line we have the encoding of the text_font. We can analyze whether the texts have n_grams in common through their columns."
      ],
      "metadata": {
        "id": "yAEnWJRfzYOg"
      }
    },
    {
      "cell_type": "markdown",
      "source": [
        "## Containment Values\n",
        "\n",
        "Cotainment is nothing more than a measure of similarity between texts. It is basically a normalization of the n-gram count intersection between the texts.\n",
        "\n",
        "First, we need to extract the words from the two text documents to form a corpus. Next, we count the intersection of n-grams (sequential groupings of words of n words) between the texts. For the case of unigrams, we can consider it as a count of the number of words that both texts have in common.\n",
        "\n",
        "Then we divide the value by the total n-grams of the text to be compared (subscript A - which wants to be compared with the source text) to normalize the value.\n",
        "\n",
        "Containment Calculation:\n",
        "\n",
        "1. Calculate the n-gram intersection between text and source text.\n",
        "2. Add the number of common terms.\n",
        "3. Normalize the value in step 2 by the number of n-grams in text A.\n",
        "\n",
        "Below we can see the equation of the Containment:\n",
        "\n",
        "![image.png](data:image/png;base64,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)"
      ],
      "metadata": {
        "id": "afuaPIiq0EyR"
      }
    },
    {
      "cell_type": "code",
      "source": [
        "n_grams"
      ],
      "metadata": {
        "colab": {
          "base_uri": "https://localhost:8080/"
        },
        "id": "9bAbQb6ezWaH",
        "outputId": "5e09a61f-7dd6-4242-c704-da9f8e168a1a"
      },
      "execution_count": 7,
      "outputs": [
        {
          "output_type": "execute_result",
          "data": {
            "text/plain": [
              "<2x10 sparse matrix of type '<class 'numpy.int64'>'\n",
              "\twith 14 stored elements in Compressed Sparse Row format>"
            ]
          },
          "metadata": {},
          "execution_count": 7
        }
      ]
    },
    {
      "cell_type": "code",
      "source": [
        "n_grams.toarray()"
      ],
      "metadata": {
        "colab": {
          "base_uri": "https://localhost:8080/"
        },
        "id": "AL-H5KlE22CP",
        "outputId": "36c614a4-b689-45a3-8a3f-caf23b8304f4"
      },
      "execution_count": 8,
      "outputs": [
        {
          "output_type": "execute_result",
          "data": {
            "text/plain": [
              "array([[0, 1, 1, 0, 1, 1, 1, 1, 1, 1],\n",
              "       [1, 0, 1, 1, 0, 1, 1, 1, 0, 0]])"
            ]
          },
          "metadata": {},
          "execution_count": 8
        }
      ]
    },
    {
      "cell_type": "code",
      "source": [
        "intersection_list = np.amin(n_grams.toarray(), axis = 0)\n",
        "intersection_list"
      ],
      "metadata": {
        "colab": {
          "base_uri": "https://localhost:8080/"
        },
        "id": "DEOhC5K024wn",
        "outputId": "8c74b964-e0b4-4792-c85b-5c43736ec3d1"
      },
      "execution_count": 9,
      "outputs": [
        {
          "output_type": "execute_result",
          "data": {
            "text/plain": [
              "array([0, 0, 1, 0, 0, 1, 1, 1, 0, 0])"
            ]
          },
          "metadata": {},
          "execution_count": 9
        }
      ]
    },
    {
      "cell_type": "code",
      "source": [
        "intersection_count = np.sum(intersection_list)\n",
        "intersection_count"
      ],
      "metadata": {
        "colab": {
          "base_uri": "https://localhost:8080/"
        },
        "id": "2Jpcc0UL3EMe",
        "outputId": "2863ae3a-39e3-4952-ce09-6377b002b059"
      },
      "execution_count": 10,
      "outputs": [
        {
          "output_type": "execute_result",
          "data": {
            "text/plain": [
              "4"
            ]
          },
          "metadata": {},
          "execution_count": 10
        }
      ]
    },
    {
      "cell_type": "code",
      "source": [
        "index_A = 0\n",
        "A_count = np.sum(n_grams.toarray()[index_A])\n",
        "A_count"
      ],
      "metadata": {
        "colab": {
          "base_uri": "https://localhost:8080/"
        },
        "id": "7dp2_diV3MOf",
        "outputId": "1e9d74e9-edbf-4035-c5ea-ad623176bf69"
      },
      "execution_count": 11,
      "outputs": [
        {
          "output_type": "execute_result",
          "data": {
            "text/plain": [
              "8"
            ]
          },
          "metadata": {},
          "execution_count": 11
        }
      ]
    },
    {
      "cell_type": "code",
      "source": [
        "intersection_count/A_count"
      ],
      "metadata": {
        "colab": {
          "base_uri": "https://localhost:8080/"
        },
        "id": "fCoezogP3WGX",
        "outputId": "ee865f9a-61b0-4202-9d76-ef552791148e"
      },
      "execution_count": 12,
      "outputs": [
        {
          "output_type": "execute_result",
          "data": {
            "text/plain": [
              "0.5"
            ]
          },
          "metadata": {},
          "execution_count": 12
        }
      ]
    },
    {
      "cell_type": "markdown",
      "source": [
        "## Function that takes an array of n-grams"
      ],
      "metadata": {
        "id": "NzBy3Ntn3cK5"
      }
    },
    {
      "cell_type": "code",
      "source": [
        "def containment(n_gram_array):\n",
        "  \"\"\"\n",
        "  Calculates the containment between two texts. Normalizes the intersection of n-gram counters between texts.\n",
        "\n",
        "  arg: n_gram_array(array): An array with the n-gram counts of the two texts to be compared\n",
        "\n",
        "  return: the normalized containment value\n",
        "  \"\"\"\n",
        "\n",
        "  # Creates a list that contains the minimum value found in the columns\n",
        "\n",
        "  # 0 if there are no matches and 1 for matched words\n",
        "\n",
        "  intersection_list = np.amin(n_gram_array,axis = 0)\n",
        "\n",
        "  # Sum of the intersection number\n",
        "  intersection_count = np.sum(intersection_list)\n",
        "\n",
        "  # Count number of the n-grams in text 1\n",
        "  A_idx = 0\n",
        "  A_count = np.sum(n_gram_array[A_idx])\n",
        "\n",
        "  # Normalize and calculate the final value\n",
        "  containment_val = intersection_count / A_count\n",
        "\n",
        "  return containment_val"
      ],
      "metadata": {
        "id": "4SmHMjvP3mTI"
      },
      "execution_count": 16,
      "outputs": []
    },
    {
      "cell_type": "markdown",
      "source": [
        "### To n-gram calculate before and n=1"
      ],
      "metadata": {
        "id": "GkvJqZz65K6I"
      }
    },
    {
      "cell_type": "code",
      "source": [
        "containment_val = containment(n_grams.toarray())\n",
        "\n",
        "print('Containment: ', containment_val)"
      ],
      "metadata": {
        "colab": {
          "base_uri": "https://localhost:8080/"
        },
        "id": "XKp3m2aB5KI2",
        "outputId": "1f30e591-e989-42ff-e434-66708c08c7c2"
      },
      "execution_count": 17,
      "outputs": [
        {
          "output_type": "stream",
          "name": "stdout",
          "text": [
            "Containment:  0.5\n"
          ]
        }
      ]
    },
    {
      "cell_type": "markdown",
      "source": [
        "### To n=2"
      ],
      "metadata": {
        "id": "0o2Y5vfu5d5G"
      }
    },
    {
      "cell_type": "code",
      "source": [
        "# To n=n\n",
        "counts_2grams = CountVectorizer(analyzer='word', ngram_range=(2,2))\n",
        "bigram_counts = counts_2grams.fit_transform([text_compare,text_font])\n",
        "\n",
        "#calculate containment\n",
        "containment_val = containment(bigram_counts.toarray())\n",
        "\n",
        "print('Containment for n=2: ', containment_val)"
      ],
      "metadata": {
        "colab": {
          "base_uri": "https://localhost:8080/"
        },
        "id": "NvbpvR815civ",
        "outputId": "9b6a556b-84ff-4c1d-c76f-6c34d8e178c8"
      },
      "execution_count": 18,
      "outputs": [
        {
          "output_type": "stream",
          "name": "stdout",
          "text": [
            "Containment for n=2:  0.2857142857142857\n"
          ]
        }
      ]
    }
  ]
}